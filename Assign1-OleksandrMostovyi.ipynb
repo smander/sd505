{
 "cells": [
  {
   "cell_type": "code",
   "execution_count": 1,
   "id": "0ecac72a-cf35-43a8-9782-e91f02a675fa",
   "metadata": {
    "tags": []
   },
   "outputs": [],
   "source": [
    "import sqlite3\n",
    "import math\n",
    "from datetime import timedelta"
   ]
  },
  {
   "cell_type": "code",
   "execution_count": 2,
   "id": "75e7fe25-81f7-44c3-8f86-7f7e16ad9bc9",
   "metadata": {
    "tags": []
   },
   "outputs": [],
   "source": [
    "db_name='dinofunworld.db'\n",
    "connection = sqlite3.connect(db_name)\n",
    "conn_obj = connection.cursor()"
   ]
  },
  {
   "cell_type": "code",
   "execution_count": 27,
   "id": "c0f59386-4994-4ba1-ae6c-a647b3873a6b",
   "metadata": {
    "tags": []
   },
   "outputs": [
    {
     "name": "stdout",
     "output_type": "stream",
     "text": [
      "Atmosfear\n"
     ]
    }
   ],
   "source": [
    "# Question 1: What is the most popular attraction to visit in the park?\n",
    "\n",
    "conn_obj.execute(\"SELECT Name, attraction AS attraction, COUNT(attraction) AS Count FROM checkin c1 INNER JOIN attraction c2 ON c2.AttractionID = c1.attraction GROUP BY attraction ORDER BY COUNT DESC\")\n",
    "attractionName = conn_obj.fetchone()[0]\n",
    "print(attractionName)"
   ]
  },
  {
   "cell_type": "code",
   "execution_count": 23,
   "id": "cf9ab55a-939e-4d97-8538-79b416e12a2d",
   "metadata": {
    "tags": []
   },
   "outputs": [
    {
     "name": "stdout",
     "output_type": "stream",
     "text": [
      "Flight of the Swingodon\n"
     ]
    }
   ],
   "source": [
    "# Question 2: What ride (note that not all attractions are rides) has the longest visit time?\n",
    "\n",
    "conn_obj.execute(\"SELECT a.name, c1.attraction, avg(c1.duration) as average, a.category FROM checkin c1 INNER JOIN attraction a ON c1.attraction = a.attractionid WHERE a.category LIKE '%rides%' GROUP by attraction ORDER BY average DESC LIMIT 1;\")\n",
    "longestWait = conn_obj.fetchone()[0]\n",
    "print(longestWait)"
   ]
  },
  {
   "cell_type": "code",
   "execution_count": 26,
   "id": "8043f7dc-e45a-4b3a-9f19-035a68db867d",
   "metadata": {
    "tags": []
   },
   "outputs": [
    {
     "name": "stdout",
     "output_type": "stream",
     "text": [
      "Theresaur Food Stop\n"
     ]
    }
   ],
   "source": [
    "# Question 3: Which Fast Food offering has the fewest visitors?\n",
    "\n",
    "conn_obj.execute(\"SELECT a.attractionid, COUNT(DISTINCT c1.visitorid) unique_visits, a.Name, a.type FROM checkin c1 INNER JOIN attraction a ON c1.attraction = a.attractionid where a.type = 'Fast Food' GROUP BY attraction ORDER BY unique_visits ASC LIMIT 1;\")\n",
    "lowestFastFood = conn_obj.fetchall()[0][2]\n",
    "print(lowestFastFood)\n"
   ]
  },
  {
   "cell_type": "code",
   "execution_count": 68,
   "id": "7a36dd1b-b92d-4264-a12e-a50b0a1f60d3",
   "metadata": {
    "tags": []
   },
   "outputs": [
    {
     "name": "stdout",
     "output_type": "stream",
     "text": [
      "['Atmosfear', 'Wrightiraptor Mountain', 'Dykesadactyl Thrill']\n"
     ]
    }
   ],
   "source": [
    "# Question 4: Compute the Skyline of number of visits and visit time for the park's ride and report the rides that appear in the Skyline.\n",
    "\n",
    "skylineList = []\n",
    "leastVisitTime = math.inf\n",
    "attractionName = \"\"\n",
    "\n",
    "conn_obj.execute(\"SELECT Name, attraction AS attraction, COUNT(attraction) AS Count FROM checkin c1 INNER JOIN attraction c2 ON c2.AttractionID = c1.attraction GROUP BY attraction ORDER BY COUNT DESC\")\n",
    "attraction = conn_obj.fetchall()[0][0]\n",
    "skylineList.append(attraction)\n",
    "\n",
    "conn_obj.execute(\"SELECT  attraction.name,checkin.attraction, avg(checkin.duration) as 'avg_time', attraction.category FROM checkin INNER JOIN attraction ON checkin.attraction = attraction.attractionid WHERE attraction.category LIKE '%rides%' GROUP by attraction ORDER BY 'avg_time' ASC LIMIT 1;\")\n",
    "attractionName1 = conn_obj.fetchall()[0][0]\n",
    "skylineList.append(attractionName1)\n",
    "\n",
    "conn_obj.execute(\"SELECT attractionid, name FROM attraction where category LIKE '%ride%'\")\n",
    "attRides = conn_obj.fetchall()\n",
    "\n",
    "for attId, attName in attRides:\n",
    "    timeinSeconds = 0\n",
    "    conn_obj.execute(\"SELECT duration FROM checkin WHERE attraction = \"+str(attId))\n",
    "    currDur = conn_obj.fetchall()\n",
    "    \n",
    "    for i in range(len(currDur)):\n",
    "        try:\n",
    "            hrs, mins, sec = currDur[i][0].split(\":\")\n",
    "            timeinSeconds = timeinSeconds + timedelta(int(hrs), int(mins), int(sec)).total_seconds()\n",
    "        \n",
    "        except:\n",
    "            continue\n",
    "        \n",
    "    if (timeinSeconds < leastVisitTime):\n",
    "        leastVisitTime = timeinSeconds\n",
    "        attractionName = attName\n",
    "        \n",
    "skylineList.append(attractionName)\n",
    "\n",
    "print(skylineList)"
   ]
  },
  {
   "cell_type": "code",
   "execution_count": null,
   "id": "ee02d58b-088d-447e-baad-8138875a908d",
   "metadata": {},
   "outputs": [],
   "source": []
  }
 ],
 "metadata": {
  "kernelspec": {
   "display_name": "Python 3 (ipykernel)",
   "language": "python",
   "name": "python3"
  },
  "language_info": {
   "codemirror_mode": {
    "name": "ipython",
    "version": 3
   },
   "file_extension": ".py",
   "mimetype": "text/x-python",
   "name": "python",
   "nbconvert_exporter": "python",
   "pygments_lexer": "ipython3",
   "version": "3.9.14"
  }
 },
 "nbformat": 4,
 "nbformat_minor": 5
}
